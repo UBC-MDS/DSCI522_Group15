{
 "cells": [
  {
   "cell_type": "code",
   "execution_count": null,
   "id": "3dadd04e-7ffb-4820-bc52-b479ab089c86",
   "metadata": {},
   "outputs": [],
   "source": []
  }
 ],
 "metadata": {
  "kernelspec": {
   "display_name": "Python [conda env:522_lab1]",
   "language": "python",
   "name": "conda-env-522_lab1-py"
  },
  "language_info": {
   "codemirror_mode": {
    "name": "ipython",
    "version": 3
   },
   "file_extension": ".py",
   "mimetype": "text/x-python",
   "name": "python",
   "nbconvert_exporter": "python",
   "pygments_lexer": "ipython3",
   "version": "3.8.18"
  }
 },
 "nbformat": 4,
 "nbformat_minor": 5
}
